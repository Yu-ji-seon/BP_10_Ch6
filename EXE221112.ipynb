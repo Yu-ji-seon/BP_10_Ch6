{
  "nbformat": 4,
  "nbformat_minor": 0,
  "metadata": {
    "colab": {
      "provenance": [],
      "authorship_tag": "ABX9TyMfohfg6MYjEfgzQcmOoi+W",
      "include_colab_link": true
    },
    "kernelspec": {
      "name": "python3",
      "display_name": "Python 3"
    },
    "language_info": {
      "name": "python"
    }
  },
  "cells": [
    {
      "cell_type": "markdown",
      "metadata": {
        "id": "view-in-github",
        "colab_type": "text"
      },
      "source": [
        "<a href=\"https://colab.research.google.com/github/Yu-ji-seon/BP_10_Ch6/blob/main/EXE221112.ipynb\" target=\"_parent\"><img src=\"https://colab.research.google.com/assets/colab-badge.svg\" alt=\"Open In Colab\"/></a>"
      ]
    },
    {
      "cell_type": "code",
      "source": [
        "for i in range(2, 101):\n",
        "  if i%2==0 :\n",
        "   print(i,end = \" \")"
      ],
      "metadata": {
        "colab": {
          "base_uri": "https://localhost:8080/"
        },
        "id": "yh0r5Zkbcwj_",
        "outputId": "c6846eee-159f-4ea0-d19d-548e1f655799"
      },
      "execution_count": 2,
      "outputs": [
        {
          "output_type": "stream",
          "name": "stdout",
          "text": [
            "2 4 6 8 10 12 14 16 18 20 22 24 26 28 30 32 34 36 38 40 42 44 46 48 50 52 54 56 58 60 62 64 66 68 70 72 74 76 78 80 82 84 86 88 90 92 94 96 98 100 "
          ]
        }
      ]
    },
    {
      "cell_type": "code",
      "source": [
        "year = 0\n",
        "balance = 1000\n",
        "\n",
        "while balance <= 2000 :\n",
        "      year = year + 1\n",
        "      interest = balance * 0.07\n",
        "      balance = balance + interest\n",
        "print(year, \"년이 걸립니다.\")"
      ],
      "metadata": {
        "colab": {
          "base_uri": "https://localhost:8080/"
        },
        "id": "IatF9wmfdHVP",
        "outputId": "11b28771-1297-4203-a348-0406c8ecec09"
      },
      "execution_count": 6,
      "outputs": [
        {
          "output_type": "stream",
          "name": "stdout",
          "text": [
            "11 년이 걸립니다.\n"
          ]
        }
      ]
    },
    {
      "cell_type": "markdown",
      "source": [
        "digit sum\n",
        "4 4\n",
        "3 7\n",
        "2 9\n",
        "1 10"
      ],
      "metadata": {
        "id": "X3edmskjeHD2"
      }
    },
    {
      "cell_type": "code",
      "source": [
        "ans = 0\n",
        "while ans != 3*9:\n",
        "   ans = int(input(\"3*9는\"))\n",
        "print(\"맞았습니다.\")\n"
      ],
      "metadata": {
        "colab": {
          "base_uri": "https://localhost:8080/"
        },
        "id": "Y24td6SSeIu2",
        "outputId": "2d862138-a219-4fc8-f605-d3be44e53e2c"
      },
      "execution_count": 10,
      "outputs": [
        {
          "output_type": "stream",
          "name": "stdout",
          "text": [
            "3*9는27\n",
            "맞았습니다.\n"
          ]
        }
      ]
    },
    {
      "cell_type": "code",
      "source": [
        "sum = 0\n",
        "while True:\n",
        "     x = int(input(\"정수를 입력하시오: \"))\n",
        "     if x == 0:\n",
        "          break;\n",
        "     sum = sum + x\n",
        "\n",
        "print(\"합은 \", sum, \"입니다.\")"
      ],
      "metadata": {
        "colab": {
          "base_uri": "https://localhost:8080/"
        },
        "id": "VsmJmbfDeSjq",
        "outputId": "de86bdd6-8bb3-4bed-b818-198aed4685fa"
      },
      "execution_count": 15,
      "outputs": [
        {
          "output_type": "stream",
          "name": "stdout",
          "text": [
            "정수를 입력하시오: 1\n",
            "정수를 입력하시오: 2\n",
            "정수를 입력하시오: 3\n",
            "정수를 입력하시오: 0\n",
            "합은  6 입니다.\n"
          ]
        }
      ]
    },
    {
      "cell_type": "code",
      "source": [
        "from random import randint\n",
        "\n",
        "for i in range(3) :\n",
        "   d1 = randint(1, 6)\n",
        "   d2 = randint(1, 6)\n",
        "   print(\"첫번째 주사위=\", d1, \"두번째 주사위=\", d2)"
      ],
      "metadata": {
        "colab": {
          "base_uri": "https://localhost:8080/"
        },
        "id": "b1vgy7GaejSn",
        "outputId": "c036c9ed-819a-4ef9-ad1d-e6d7e95a56ef"
      },
      "execution_count": 16,
      "outputs": [
        {
          "output_type": "stream",
          "name": "stdout",
          "text": [
            "첫번째 주사위= 5 두번째 주사위= 4\n",
            "첫번째 주사위= 6 두번째 주사위= 6\n",
            "첫번째 주사위= 5 두번째 주사위= 3\n"
          ]
        }
      ]
    },
    {
      "cell_type": "code",
      "source": [
        "import turtle\n",
        "\n",
        "t = turtle.Turtle()\n",
        "t.shape(\"turtle\")\n",
        "t.left(90)\n",
        "\n",
        "for i in range (1,7):\n",
        " t.forward(100)\n",
        " t.forward(-30)\n",
        " t.left(60)\n",
        " t.forward(30)\n",
        " t.forward(-30)\n",
        "\n",
        " t.right(120)\n",
        " t.forward(30)\n",
        " t.forward(-30)\n",
        " \n",
        " t.left(60)\n",
        " t.forward(-70)\n",
        " t.left(60)"
      ],
      "metadata": {
        "id": "0CYBCO53gNm0"
      },
      "execution_count": null,
      "outputs": []
    },
    {
      "cell_type": "code",
      "source": [
        "import turtle\n",
        "\n",
        "myPen = turtle.Turtle()\n",
        "myPen.speed(0)\n",
        "myPen.color(\"#FF0000\")\n",
        "\n",
        "for j in range (1,10):\n",
        " for i in range (1,6):\n",
        "    myPen.left(144)\n",
        "    myPen.forward(200)\n",
        "  myPen.left(10)"
      ],
      "metadata": {
        "id": "5-4cTKHwgTzb"
      },
      "execution_count": null,
      "outputs": []
    },
    {
      "cell_type": "code",
      "source": [
        "import turtle\n",
        "import random\n",
        "\n",
        "t = turtle.Turtle()\n",
        "t.shape(\"turtle\")\n",
        "\n",
        "for j in range (1,10):\n",
        "  t.up()\n",
        " x = random.randint(-200, 200)\n",
        " y = random.randint(-200, 200)\n",
        " r = random.randint(10, 200)\n",
        " t.goto(x, y)\n",
        " t.down()\n",
        " t.circle(r)\n"
      ],
      "metadata": {
        "id": "Dj5iBnYagdFR"
      },
      "execution_count": null,
      "outputs": []
    },
    {
      "cell_type": "code",
      "source": [
        "import turtle\n",
        "\n",
        "t = turtle.Turtle()\n",
        "t.shape(\"turtle\")\n",
        "\n",
        "for i in range(5):\n",
        " t.forward(200);\n",
        " t.right(90)\n",
        " t.forward(20);\n",
        " t.right(90)\n",
        " t.forward(200);\n",
        " t.left(90)\n",
        " t.forward(20);\n",
        " t.left(90)"
      ],
      "metadata": {
        "id": "I82ULV1FgpBs"
      },
      "execution_count": null,
      "outputs": []
    },
    {
      "cell_type": "code",
      "source": [
        "import turtle\n",
        "t = turtle.Turtle()\n",
        "t.shape(\"turtle\")\n",
        "t.color('red', 'yellow')\n",
        "t.begin_fill()\n",
        "while True:\n",
        "   t.forward(200)\n",
        "   t.left(170)\n",
        "    if abs(t.pos()) < 1:\n",
        "   break\n",
        "t.end_fill()\n"
      ],
      "metadata": {
        "id": "64BrPU7Ogt1y"
      },
      "execution_count": null,
      "outputs": []
    },
    {
      "cell_type": "code",
      "source": [
        "import turtle\n",
        "import math\n",
        "\n",
        "t= turtle.Turtle()\n",
        "t.shape(\"turtle\")\n",
        "t.color('red', 'yellow')\n",
        "\n",
        "for x in range(0, 360):\n",
        "      t.goto(x,200*math.sin(x*3.14/180))"
      ],
      "metadata": {
        "id": "iZ0I7LGUgzlR"
      },
      "execution_count": null,
      "outputs": []
    }
  ]
}